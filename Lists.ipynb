{
 "cells": [
  {
   "cell_type": "markdown",
   "id": "a7d25d01",
   "metadata": {},
   "source": [
    "# Lists\n",
    "- Lists are also ordered sequences\n",
    "- Here is a List \"L\"\n",
    "- A List is represented with square brackets []\n",
    "- Lists are mutable (different with Tuples)"
   ]
  },
  {
   "cell_type": "code",
   "execution_count": 1,
   "id": "6214dd38",
   "metadata": {},
   "outputs": [],
   "source": [
    "L = ['Michael Jackson', 10.1,1982]"
   ]
  },
  {
   "cell_type": "markdown",
   "id": "60a835f4",
   "metadata": {},
   "source": [
    "- List can also nest tuples, lists or other data structures"
   ]
  },
  {
   "cell_type": "code",
   "execution_count": 2,
   "id": "b068bbdd",
   "metadata": {},
   "outputs": [],
   "source": [
    "ex = [\"Tus\", [1,2],('A',1)]"
   ]
  },
  {
   "cell_type": "code",
   "execution_count": 3,
   "id": "e4176c35",
   "metadata": {},
   "outputs": [],
   "source": [
    "L1 = L + [\"pop\", 10]"
   ]
  },
  {
   "cell_type": "code",
   "execution_count": 4,
   "id": "c9fe68e1",
   "metadata": {},
   "outputs": [
    {
     "data": {
      "text/plain": [
       "['Michael Jackson', 10.1, 1982, 'pop', 10]"
      ]
     },
     "execution_count": 4,
     "metadata": {},
     "output_type": "execute_result"
    }
   ],
   "source": [
    "L1"
   ]
  },
  {
   "cell_type": "code",
   "execution_count": 5,
   "id": "207760f1",
   "metadata": {},
   "outputs": [],
   "source": [
    "L = ['Michael Jackson', 10.1,1982]"
   ]
  },
  {
   "cell_type": "code",
   "execution_count": 6,
   "id": "51c31fce",
   "metadata": {},
   "outputs": [],
   "source": [
    "L.extend([\"pop\", 10])"
   ]
  },
  {
   "cell_type": "code",
   "execution_count": 7,
   "id": "4fcf43fd",
   "metadata": {},
   "outputs": [
    {
     "data": {
      "text/plain": [
       "['Michael Jackson', 10.1, 1982, 'pop', 10]"
      ]
     },
     "execution_count": 7,
     "metadata": {},
     "output_type": "execute_result"
    }
   ],
   "source": [
    "L"
   ]
  },
  {
   "cell_type": "code",
   "execution_count": 8,
   "id": "075a277b",
   "metadata": {},
   "outputs": [],
   "source": [
    "L = ['Michael Jackson', 10.1,1982]"
   ]
  },
  {
   "cell_type": "code",
   "execution_count": 9,
   "id": "b39f9561",
   "metadata": {},
   "outputs": [],
   "source": [
    "L.append([\"pop\", 10])"
   ]
  },
  {
   "cell_type": "code",
   "execution_count": 10,
   "id": "2f7b17bc",
   "metadata": {},
   "outputs": [
    {
     "data": {
      "text/plain": [
       "['Michael Jackson', 10.1, 1982, ['pop', 10]]"
      ]
     },
     "execution_count": 10,
     "metadata": {},
     "output_type": "execute_result"
    }
   ],
   "source": [
    "L"
   ]
  },
  {
   "cell_type": "code",
   "execution_count": 11,
   "id": "d792631d",
   "metadata": {},
   "outputs": [],
   "source": [
    "L.append(\"A\")"
   ]
  },
  {
   "cell_type": "code",
   "execution_count": 12,
   "id": "589fc99c",
   "metadata": {},
   "outputs": [],
   "source": [
    "A = [\"disco\",10,1.2]"
   ]
  },
  {
   "cell_type": "code",
   "execution_count": 13,
   "id": "df10d5c8",
   "metadata": {},
   "outputs": [],
   "source": [
    "A[0] = \"hard rock\""
   ]
  },
  {
   "cell_type": "code",
   "execution_count": 14,
   "id": "2ebab2f1",
   "metadata": {},
   "outputs": [
    {
     "data": {
      "text/plain": [
       "['hard rock', 10, 1.2]"
      ]
     },
     "execution_count": 14,
     "metadata": {},
     "output_type": "execute_result"
    }
   ],
   "source": [
    "A"
   ]
  },
  {
   "cell_type": "code",
   "execution_count": 15,
   "id": "aafa8757",
   "metadata": {},
   "outputs": [],
   "source": [
    "del(A[0])"
   ]
  },
  {
   "cell_type": "code",
   "execution_count": 16,
   "id": "fb609970",
   "metadata": {},
   "outputs": [
    {
     "data": {
      "text/plain": [
       "[10, 1.2]"
      ]
     },
     "execution_count": 16,
     "metadata": {},
     "output_type": "execute_result"
    }
   ],
   "source": [
    "A"
   ]
  },
  {
   "cell_type": "markdown",
   "id": "2336896d",
   "metadata": {},
   "source": [
    "## Convert string to list"
   ]
  },
  {
   "cell_type": "code",
   "execution_count": 17,
   "id": "748a1461",
   "metadata": {},
   "outputs": [
    {
     "data": {
      "text/plain": [
       "['hard', 'rock']"
      ]
     },
     "execution_count": 17,
     "metadata": {},
     "output_type": "execute_result"
    }
   ],
   "source": [
    "\"hard rock\".split()"
   ]
  },
  {
   "cell_type": "code",
   "execution_count": 18,
   "id": "5817c254",
   "metadata": {},
   "outputs": [
    {
     "data": {
      "text/plain": [
       "['A', 'B', 'C', 'D']"
      ]
     },
     "execution_count": 18,
     "metadata": {},
     "output_type": "execute_result"
    }
   ],
   "source": [
    "\"A,B,C,D\".split(\",\")"
   ]
  },
  {
   "cell_type": "markdown",
   "id": "374600fd",
   "metadata": {},
   "source": [
    "## Lists: Aliasing\n",
    "- When we set one variable, b, equal to a, both a and b are referencing the same list"
   ]
  },
  {
   "cell_type": "code",
   "execution_count": 19,
   "id": "830339b8",
   "metadata": {},
   "outputs": [],
   "source": [
    "A = [\"hard rock\", 10,1.2]"
   ]
  },
  {
   "cell_type": "code",
   "execution_count": 20,
   "id": "41867f8c",
   "metadata": {},
   "outputs": [],
   "source": [
    "B = A"
   ]
  },
  {
   "cell_type": "code",
   "execution_count": 21,
   "id": "1063ec68",
   "metadata": {},
   "outputs": [
    {
     "data": {
      "text/plain": [
       "'hard rock'"
      ]
     },
     "execution_count": 21,
     "metadata": {},
     "output_type": "execute_result"
    }
   ],
   "source": [
    "B[0]"
   ]
  },
  {
   "cell_type": "code",
   "execution_count": 22,
   "id": "d8ae2684",
   "metadata": {},
   "outputs": [],
   "source": [
    "A[0] = \"banana\""
   ]
  },
  {
   "cell_type": "code",
   "execution_count": 23,
   "id": "e9e9f9f2",
   "metadata": {},
   "outputs": [
    {
     "data": {
      "text/plain": [
       "'banana'"
      ]
     },
     "execution_count": 23,
     "metadata": {},
     "output_type": "execute_result"
    }
   ],
   "source": [
    "B[0]"
   ]
  },
  {
   "cell_type": "markdown",
   "id": "e2861a1e",
   "metadata": {},
   "source": [
    "## Lists: Clone"
   ]
  },
  {
   "cell_type": "code",
   "execution_count": 24,
   "id": "de989fcb",
   "metadata": {},
   "outputs": [],
   "source": [
    "A = [\"hard rock\", 10,1.2]"
   ]
  },
  {
   "cell_type": "code",
   "execution_count": 25,
   "id": "888c841c",
   "metadata": {},
   "outputs": [],
   "source": [
    "B = A[:]"
   ]
  },
  {
   "cell_type": "code",
   "execution_count": 26,
   "id": "15d0808b",
   "metadata": {},
   "outputs": [],
   "source": [
    "A[0] = \"banana\""
   ]
  },
  {
   "cell_type": "code",
   "execution_count": 27,
   "id": "345d4a7c",
   "metadata": {},
   "outputs": [
    {
     "data": {
      "text/plain": [
       "'hard rock'"
      ]
     },
     "execution_count": 27,
     "metadata": {},
     "output_type": "execute_result"
    }
   ],
   "source": [
    "B[0]"
   ]
  },
  {
   "cell_type": "markdown",
   "id": "ec1e66f4",
   "metadata": {},
   "source": [
    "## The help command"
   ]
  },
  {
   "cell_type": "code",
   "execution_count": 28,
   "id": "4ff3f6a4",
   "metadata": {},
   "outputs": [
    {
     "name": "stdout",
     "output_type": "stream",
     "text": [
      "Help on list object:\n",
      "\n",
      "class list(object)\n",
      " |  list(iterable=(), /)\n",
      " |  \n",
      " |  Built-in mutable sequence.\n",
      " |  \n",
      " |  If no argument is given, the constructor creates a new empty list.\n",
      " |  The argument must be an iterable if specified.\n",
      " |  \n",
      " |  Methods defined here:\n",
      " |  \n",
      " |  __add__(self, value, /)\n",
      " |      Return self+value.\n",
      " |  \n",
      " |  __contains__(self, key, /)\n",
      " |      Return key in self.\n",
      " |  \n",
      " |  __delitem__(self, key, /)\n",
      " |      Delete self[key].\n",
      " |  \n",
      " |  __eq__(self, value, /)\n",
      " |      Return self==value.\n",
      " |  \n",
      " |  __ge__(self, value, /)\n",
      " |      Return self>=value.\n",
      " |  \n",
      " |  __getattribute__(self, name, /)\n",
      " |      Return getattr(self, name).\n",
      " |  \n",
      " |  __getitem__(...)\n",
      " |      x.__getitem__(y) <==> x[y]\n",
      " |  \n",
      " |  __gt__(self, value, /)\n",
      " |      Return self>value.\n",
      " |  \n",
      " |  __iadd__(self, value, /)\n",
      " |      Implement self+=value.\n",
      " |  \n",
      " |  __imul__(self, value, /)\n",
      " |      Implement self*=value.\n",
      " |  \n",
      " |  __init__(self, /, *args, **kwargs)\n",
      " |      Initialize self.  See help(type(self)) for accurate signature.\n",
      " |  \n",
      " |  __iter__(self, /)\n",
      " |      Implement iter(self).\n",
      " |  \n",
      " |  __le__(self, value, /)\n",
      " |      Return self<=value.\n",
      " |  \n",
      " |  __len__(self, /)\n",
      " |      Return len(self).\n",
      " |  \n",
      " |  __lt__(self, value, /)\n",
      " |      Return self<value.\n",
      " |  \n",
      " |  __mul__(self, value, /)\n",
      " |      Return self*value.\n",
      " |  \n",
      " |  __ne__(self, value, /)\n",
      " |      Return self!=value.\n",
      " |  \n",
      " |  __repr__(self, /)\n",
      " |      Return repr(self).\n",
      " |  \n",
      " |  __reversed__(self, /)\n",
      " |      Return a reverse iterator over the list.\n",
      " |  \n",
      " |  __rmul__(self, value, /)\n",
      " |      Return value*self.\n",
      " |  \n",
      " |  __setitem__(self, key, value, /)\n",
      " |      Set self[key] to value.\n",
      " |  \n",
      " |  __sizeof__(self, /)\n",
      " |      Return the size of the list in memory, in bytes.\n",
      " |  \n",
      " |  append(self, object, /)\n",
      " |      Append object to the end of the list.\n",
      " |  \n",
      " |  clear(self, /)\n",
      " |      Remove all items from list.\n",
      " |  \n",
      " |  copy(self, /)\n",
      " |      Return a shallow copy of the list.\n",
      " |  \n",
      " |  count(self, value, /)\n",
      " |      Return number of occurrences of value.\n",
      " |  \n",
      " |  extend(self, iterable, /)\n",
      " |      Extend list by appending elements from the iterable.\n",
      " |  \n",
      " |  index(self, value, start=0, stop=9223372036854775807, /)\n",
      " |      Return first index of value.\n",
      " |      \n",
      " |      Raises ValueError if the value is not present.\n",
      " |  \n",
      " |  insert(self, index, object, /)\n",
      " |      Insert object before index.\n",
      " |  \n",
      " |  pop(self, index=-1, /)\n",
      " |      Remove and return item at index (default last).\n",
      " |      \n",
      " |      Raises IndexError if list is empty or index is out of range.\n",
      " |  \n",
      " |  remove(self, value, /)\n",
      " |      Remove first occurrence of value.\n",
      " |      \n",
      " |      Raises ValueError if the value is not present.\n",
      " |  \n",
      " |  reverse(self, /)\n",
      " |      Reverse *IN PLACE*.\n",
      " |  \n",
      " |  sort(self, /, *, key=None, reverse=False)\n",
      " |      Sort the list in ascending order and return None.\n",
      " |      \n",
      " |      The sort is in-place (i.e. the list itself is modified) and stable (i.e. the\n",
      " |      order of two equal elements is maintained).\n",
      " |      \n",
      " |      If a key function is given, apply it once to each list item and sort them,\n",
      " |      ascending or descending, according to their function values.\n",
      " |      \n",
      " |      The reverse flag can be set to sort in descending order.\n",
      " |  \n",
      " |  ----------------------------------------------------------------------\n",
      " |  Class methods defined here:\n",
      " |  \n",
      " |  __class_getitem__(...) from builtins.type\n",
      " |      See PEP 585\n",
      " |  \n",
      " |  ----------------------------------------------------------------------\n",
      " |  Static methods defined here:\n",
      " |  \n",
      " |  __new__(*args, **kwargs) from builtins.type\n",
      " |      Create and return a new object.  See help(type) for accurate signature.\n",
      " |  \n",
      " |  ----------------------------------------------------------------------\n",
      " |  Data and other attributes defined here:\n",
      " |  \n",
      " |  __hash__ = None\n",
      "\n"
     ]
    }
   ],
   "source": [
    "help(A)"
   ]
  },
  {
   "cell_type": "code",
   "execution_count": null,
   "id": "07bdbc82",
   "metadata": {},
   "outputs": [],
   "source": []
  }
 ],
 "metadata": {
  "kernelspec": {
   "display_name": "Python 3 (ipykernel)",
   "language": "python",
   "name": "python3"
  },
  "language_info": {
   "codemirror_mode": {
    "name": "ipython",
    "version": 3
   },
   "file_extension": ".py",
   "mimetype": "text/x-python",
   "name": "python",
   "nbconvert_exporter": "python",
   "pygments_lexer": "ipython3",
   "version": "3.9.13"
  }
 },
 "nbformat": 4,
 "nbformat_minor": 5
}
