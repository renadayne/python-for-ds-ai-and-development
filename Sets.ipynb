{
 "cells": [
  {
   "cell_type": "markdown",
   "id": "29e42f8f",
   "metadata": {},
   "source": [
    "# Sets\n",
    "- Sets are a type of collection\n",
    "    - This means that like lists and tuples you can input different Python types\n",
    "- Unlike lists and tuples they are unordered\n",
    "    - This means sets do not record element position\n",
    "- Sets only have unique elements\n",
    "    - This means there is only one of a particular element in a set"
   ]
  },
  {
   "cell_type": "code",
   "execution_count": 1,
   "id": "6e19d009",
   "metadata": {},
   "outputs": [],
   "source": [
    "Set1 = {\"pop\", \"rock\", \"soul\", \"hard rock\", \"rock\", \"R&B\", \"rock\", \"disco\"}"
   ]
  },
  {
   "cell_type": "code",
   "execution_count": 2,
   "id": "51766624",
   "metadata": {},
   "outputs": [
    {
     "data": {
      "text/plain": [
       "{'R&B', 'disco', 'hard rock', 'pop', 'rock', 'soul'}"
      ]
     },
     "execution_count": 2,
     "metadata": {},
     "output_type": "execute_result"
    }
   ],
   "source": [
    "Set1"
   ]
  },
  {
   "cell_type": "code",
   "execution_count": 3,
   "id": "1ba680df",
   "metadata": {},
   "outputs": [],
   "source": [
    "L = ['Michael Jackson', 10.1,1982, 10.1, 10.1]"
   ]
  },
  {
   "cell_type": "code",
   "execution_count": 5,
   "id": "15e7948b",
   "metadata": {},
   "outputs": [],
   "source": [
    "convert_set = set(L)"
   ]
  },
  {
   "cell_type": "code",
   "execution_count": 6,
   "id": "2054c21c",
   "metadata": {},
   "outputs": [
    {
     "data": {
      "text/plain": [
       "{10.1, 1982, 'Michael Jackson'}"
      ]
     },
     "execution_count": 6,
     "metadata": {},
     "output_type": "execute_result"
    }
   ],
   "source": [
    "convert_set"
   ]
  },
  {
   "cell_type": "code",
   "execution_count": 7,
   "id": "ab22081a",
   "metadata": {},
   "outputs": [
    {
     "data": {
      "text/plain": [
       "set"
      ]
     },
     "execution_count": 7,
     "metadata": {},
     "output_type": "execute_result"
    }
   ],
   "source": [
    "type(convert_set)"
   ]
  },
  {
   "cell_type": "markdown",
   "id": "9d00e3e3",
   "metadata": {},
   "source": [
    "## Set Operations"
   ]
  },
  {
   "cell_type": "code",
   "execution_count": 11,
   "id": "eaf5f1e9",
   "metadata": {},
   "outputs": [],
   "source": [
    "A = {\"Thriller\", \"Back in Black\", \"AC/DC\"}\n",
    "A.add(\"NSYNC\")\n"
   ]
  },
  {
   "cell_type": "code",
   "execution_count": 12,
   "id": "6f322a0c",
   "metadata": {},
   "outputs": [
    {
     "data": {
      "text/plain": [
       "{'AC/DC', 'Back in Black', 'NSYNC', 'Thriller'}"
      ]
     },
     "execution_count": 12,
     "metadata": {},
     "output_type": "execute_result"
    }
   ],
   "source": [
    "A"
   ]
  },
  {
   "cell_type": "code",
   "execution_count": 13,
   "id": "3da0b77c",
   "metadata": {},
   "outputs": [],
   "source": [
    "A.add(\"MMO\")"
   ]
  },
  {
   "cell_type": "code",
   "execution_count": 14,
   "id": "8afcd57d",
   "metadata": {},
   "outputs": [
    {
     "data": {
      "text/plain": [
       "{'AC/DC', 'Back in Black', 'MMO', 'NSYNC', 'Thriller'}"
      ]
     },
     "execution_count": 14,
     "metadata": {},
     "output_type": "execute_result"
    }
   ],
   "source": [
    "A"
   ]
  },
  {
   "cell_type": "code",
   "execution_count": 15,
   "id": "e6c7b204",
   "metadata": {},
   "outputs": [],
   "source": [
    "A.remove(\"NSYNC\")\n",
    "A.remove(\"MMO\")"
   ]
  },
  {
   "cell_type": "code",
   "execution_count": 16,
   "id": "7b3ef323",
   "metadata": {},
   "outputs": [
    {
     "data": {
      "text/plain": [
       "{'AC/DC', 'Back in Black', 'Thriller'}"
      ]
     },
     "execution_count": 16,
     "metadata": {},
     "output_type": "execute_result"
    }
   ],
   "source": [
    "A"
   ]
  },
  {
   "cell_type": "code",
   "execution_count": 17,
   "id": "00d590bb",
   "metadata": {},
   "outputs": [
    {
     "data": {
      "text/plain": [
       "True"
      ]
     },
     "execution_count": 17,
     "metadata": {},
     "output_type": "execute_result"
    }
   ],
   "source": [
    "\"AC/DC\" in A"
   ]
  },
  {
   "cell_type": "code",
   "execution_count": 18,
   "id": "0259a3d7",
   "metadata": {},
   "outputs": [
    {
     "data": {
      "text/plain": [
       "False"
      ]
     },
     "execution_count": 18,
     "metadata": {},
     "output_type": "execute_result"
    }
   ],
   "source": [
    "\"Who\" in A"
   ]
  },
  {
   "cell_type": "markdown",
   "id": "f198e6ac",
   "metadata": {},
   "source": [
    "## Sets: Mathematical set operations"
   ]
  },
  {
   "cell_type": "code",
   "execution_count": 19,
   "id": "a47bc87e",
   "metadata": {},
   "outputs": [],
   "source": [
    "album_set_1 = {\"Thriller\", \"Back in Black\", \"AC/DC\"}"
   ]
  },
  {
   "cell_type": "code",
   "execution_count": 20,
   "id": "89630c09",
   "metadata": {},
   "outputs": [],
   "source": [
    "album_set_2 = {\"The Dark Side of the Moon\", \"Back in Black\", \"AC/DC\"}"
   ]
  },
  {
   "cell_type": "code",
   "execution_count": 21,
   "id": "9d8f4a0d",
   "metadata": {},
   "outputs": [],
   "source": [
    "album_set_3 = album_set_1 & album_set_2"
   ]
  },
  {
   "cell_type": "code",
   "execution_count": 22,
   "id": "da1274ec",
   "metadata": {},
   "outputs": [
    {
     "data": {
      "text/plain": [
       "{'AC/DC', 'Back in Black'}"
      ]
     },
     "execution_count": 22,
     "metadata": {},
     "output_type": "execute_result"
    }
   ],
   "source": [
    "album_set_3"
   ]
  },
  {
   "cell_type": "code",
   "execution_count": 23,
   "id": "a15da6f8",
   "metadata": {},
   "outputs": [
    {
     "data": {
      "text/plain": [
       "{'AC/DC', 'Back in Black', 'The Dark Side of the Moon', 'Thriller'}"
      ]
     },
     "execution_count": 23,
     "metadata": {},
     "output_type": "execute_result"
    }
   ],
   "source": [
    "album_set_1.union(album_set_2)"
   ]
  },
  {
   "cell_type": "code",
   "execution_count": 25,
   "id": "a44cb660",
   "metadata": {},
   "outputs": [
    {
     "data": {
      "text/plain": [
       "True"
      ]
     },
     "execution_count": 25,
     "metadata": {},
     "output_type": "execute_result"
    }
   ],
   "source": [
    "album_set_3.issubset(album_set_1)"
   ]
  },
  {
   "cell_type": "code",
   "execution_count": null,
   "id": "b3be9e64",
   "metadata": {},
   "outputs": [],
   "source": []
  }
 ],
 "metadata": {
  "kernelspec": {
   "display_name": "Python 3 (ipykernel)",
   "language": "python",
   "name": "python3"
  },
  "language_info": {
   "codemirror_mode": {
    "name": "ipython",
    "version": 3
   },
   "file_extension": ".py",
   "mimetype": "text/x-python",
   "name": "python",
   "nbconvert_exporter": "python",
   "pygments_lexer": "ipython3",
   "version": "3.9.13"
  }
 },
 "nbformat": 4,
 "nbformat_minor": 5
}
