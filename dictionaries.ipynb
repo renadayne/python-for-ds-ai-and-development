{
 "cells": [
  {
   "cell_type": "markdown",
   "id": "c16521a8",
   "metadata": {},
   "source": [
    "# Dictionaries\n",
    "- Dictionaries are denoted with curly brackets {}\n",
    "- The keys have to be immutable and unique\n",
    "- The values can be immutable, mutable, and duplicates"
   ]
  },
  {
   "cell_type": "code",
   "execution_count": 3,
   "id": "71c7ec8c",
   "metadata": {},
   "outputs": [],
   "source": [
    "DICT = {\"Thriller\": 1982, \"Back in Black\": 1980, \"The Dark Side of the Moon\": 1973, \"The Bodyguard\": 1992}"
   ]
  },
  {
   "cell_type": "code",
   "execution_count": 4,
   "id": "e41e214c",
   "metadata": {},
   "outputs": [],
   "source": [
    "DICT['Graduation']='2007'"
   ]
  },
  {
   "cell_type": "code",
   "execution_count": 5,
   "id": "9037c48e",
   "metadata": {},
   "outputs": [
    {
     "data": {
      "text/plain": [
       "{'Thriller': 1982,\n",
       " 'Back in Black': 1980,\n",
       " 'The Dark Side of the Moon': 1973,\n",
       " 'The Bodyguard': 1992,\n",
       " 'Graduation': '2007'}"
      ]
     },
     "execution_count": 5,
     "metadata": {},
     "output_type": "execute_result"
    }
   ],
   "source": [
    "DICT"
   ]
  },
  {
   "cell_type": "code",
   "execution_count": 6,
   "id": "1f0868ee",
   "metadata": {},
   "outputs": [
    {
     "data": {
      "text/plain": [
       "1982"
      ]
     },
     "execution_count": 6,
     "metadata": {},
     "output_type": "execute_result"
    }
   ],
   "source": [
    "DICT[\"Thriller\"]"
   ]
  },
  {
   "cell_type": "code",
   "execution_count": 7,
   "id": "eedcdb99",
   "metadata": {},
   "outputs": [],
   "source": [
    "del(DICT[\"Thriller\"])"
   ]
  },
  {
   "cell_type": "code",
   "execution_count": 8,
   "id": "0b19ea9a",
   "metadata": {},
   "outputs": [
    {
     "data": {
      "text/plain": [
       "{'Back in Black': 1980,\n",
       " 'The Dark Side of the Moon': 1973,\n",
       " 'The Bodyguard': 1992,\n",
       " 'Graduation': '2007'}"
      ]
     },
     "execution_count": 8,
     "metadata": {},
     "output_type": "execute_result"
    }
   ],
   "source": [
    "DICT"
   ]
  },
  {
   "cell_type": "code",
   "execution_count": 9,
   "id": "68d3d37e",
   "metadata": {},
   "outputs": [
    {
     "data": {
      "text/plain": [
       "True"
      ]
     },
     "execution_count": 9,
     "metadata": {},
     "output_type": "execute_result"
    }
   ],
   "source": [
    "\"The Bodyguard\" in DICT"
   ]
  },
  {
   "cell_type": "code",
   "execution_count": 10,
   "id": "f432813d",
   "metadata": {},
   "outputs": [
    {
     "data": {
      "text/plain": [
       "False"
      ]
     },
     "execution_count": 10,
     "metadata": {},
     "output_type": "execute_result"
    }
   ],
   "source": [
    "\"Starboy\" in DICT"
   ]
  },
  {
   "cell_type": "code",
   "execution_count": 11,
   "id": "afe3ad12",
   "metadata": {},
   "outputs": [
    {
     "data": {
      "text/plain": [
       "dict_keys(['Back in Black', 'The Dark Side of the Moon', 'The Bodyguard', 'Graduation'])"
      ]
     },
     "execution_count": 11,
     "metadata": {},
     "output_type": "execute_result"
    }
   ],
   "source": [
    "DICT.keys()"
   ]
  },
  {
   "cell_type": "code",
   "execution_count": 12,
   "id": "3e29849f",
   "metadata": {},
   "outputs": [
    {
     "data": {
      "text/plain": [
       "dict_values([1980, 1973, 1992, '2007'])"
      ]
     },
     "execution_count": 12,
     "metadata": {},
     "output_type": "execute_result"
    }
   ],
   "source": [
    "DICT.values()"
   ]
  },
  {
   "cell_type": "code",
   "execution_count": null,
   "id": "917bb431",
   "metadata": {},
   "outputs": [],
   "source": []
  }
 ],
 "metadata": {
  "kernelspec": {
   "display_name": "Python 3 (ipykernel)",
   "language": "python",
   "name": "python3"
  },
  "language_info": {
   "codemirror_mode": {
    "name": "ipython",
    "version": 3
   },
   "file_extension": ".py",
   "mimetype": "text/x-python",
   "name": "python",
   "nbconvert_exporter": "python",
   "pygments_lexer": "ipython3",
   "version": "3.9.13"
  }
 },
 "nbformat": 4,
 "nbformat_minor": 5
}
