{
 "cells": [
  {
   "cell_type": "code",
   "execution_count": 4,
   "id": "ce7ab56b",
   "metadata": {},
   "outputs": [
    {
     "name": "stdout",
     "output_type": "stream",
     "text": [
      "Unable to open or read the data in the file\n"
     ]
    }
   ],
   "source": [
    "try:\n",
    "    getfile = open(\"myfile\", \"r\")\n",
    "    getfile.write(\"My file for exception handling.\")\n",
    "except IOError:\n",
    "    print(\"Unable to open or read the data in the file\")\n",
    "else:\n",
    "    print(\"The file was written successfully.\")\n",
    "# finally:\n",
    "#     getfile.close()\n",
    "#     print(\"File now closed.\")"
   ]
  },
  {
   "cell_type": "code",
   "execution_count": 1,
   "id": "48e00fee",
   "metadata": {},
   "outputs": [
    {
     "data": {
      "text/plain": [
       "int"
      ]
     },
     "execution_count": 1,
     "metadata": {},
     "output_type": "execute_result"
    }
   ],
   "source": [
    "type(1)"
   ]
  },
  {
   "cell_type": "code",
   "execution_count": null,
   "id": "201e64ef",
   "metadata": {},
   "outputs": [],
   "source": []
  }
 ],
 "metadata": {
  "kernelspec": {
   "display_name": "Python 3 (ipykernel)",
   "language": "python",
   "name": "python3"
  },
  "language_info": {
   "codemirror_mode": {
    "name": "ipython",
    "version": 3
   },
   "file_extension": ".py",
   "mimetype": "text/x-python",
   "name": "python",
   "nbconvert_exporter": "python",
   "pygments_lexer": "ipython3",
   "version": "3.9.13"
  }
 },
 "nbformat": 4,
 "nbformat_minor": 5
}
