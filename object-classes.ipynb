{
 "cells": [
  {
   "cell_type": "markdown",
   "id": "b41a6c83",
   "metadata": {},
   "source": [
    "# Built-in types Python\n",
    "- Every object has:\n",
    "    - A type\n",
    "    - An internal data representation (a blueprint)\n",
    "    - A set of procedures for interacting with the object (method)\n",
    "- An object is an instance of particular type"
   ]
  },
  {
   "cell_type": "markdown",
   "id": "aca411d6",
   "metadata": {},
   "source": [
    "## Objects: Type\n",
    "- Every time we create an integer, we're creating an integer object"
   ]
  },
  {
   "cell_type": "code",
   "execution_count": 1,
   "id": "b4b36439",
   "metadata": {},
   "outputs": [
    {
     "data": {
      "text/plain": [
       "int"
      ]
     },
     "execution_count": 1,
     "metadata": {},
     "output_type": "execute_result"
    }
   ],
   "source": [
    "type(1)"
   ]
  },
  {
   "cell_type": "markdown",
   "id": "69519a22",
   "metadata": {},
   "source": [
    "## Methods\n",
    "- A class or type's method are functions that every instance of that class or type provides\n",
    "- It's how you interact with the data in an object\n",
    "- Sorting is an example of a method that interacts with the data in the object"
   ]
  },
  {
   "cell_type": "code",
   "execution_count": 2,
   "id": "a131ca3f",
   "metadata": {},
   "outputs": [],
   "source": [
    "Ratings = [10,9,6,5,10,8,9,6,2]"
   ]
  },
  {
   "cell_type": "code",
   "execution_count": 3,
   "id": "b7703e44",
   "metadata": {},
   "outputs": [],
   "source": [
    "Ratings.sort()"
   ]
  },
  {
   "cell_type": "code",
   "execution_count": 4,
   "id": "78fee903",
   "metadata": {},
   "outputs": [
    {
     "data": {
      "text/plain": [
       "[2, 5, 6, 6, 8, 9, 9, 10, 10]"
      ]
     },
     "execution_count": 4,
     "metadata": {},
     "output_type": "execute_result"
    }
   ],
   "source": [
    "Ratings"
   ]
  },
  {
   "cell_type": "code",
   "execution_count": 5,
   "id": "04b2bbf4",
   "metadata": {},
   "outputs": [
    {
     "data": {
      "text/plain": [
       "[10, 10, 9, 9, 8, 6, 6, 5, 2]"
      ]
     },
     "execution_count": 5,
     "metadata": {},
     "output_type": "execute_result"
    }
   ],
   "source": [
    "Ratings.reverse()\n",
    "Ratings"
   ]
  },
  {
   "cell_type": "markdown",
   "id": "65b3fdd1",
   "metadata": {},
   "source": [
    "## Create a class: Circle\n",
    "- __init__ is special method or constructor used to initalize some data attributes\n",
    "- self is Self parameter refers to the newly created instance of the class"
   ]
  },
  {
   "cell_type": "code",
   "execution_count": 6,
   "id": "f458b667",
   "metadata": {},
   "outputs": [],
   "source": [
    "class Circle(object):\n",
    "    def __init__(self, radius, color):\n",
    "        self.radius = radius\n",
    "        self.color = color"
   ]
  },
  {
   "cell_type": "markdown",
   "id": "f54d2802",
   "metadata": {},
   "source": [
    "- The parameters, radius, and color can be used in the constructor's body to access the values passed to the class constructor when the class is constructed\n",
    "- We could set the value of the radius and color data attributes to the values passed to the constructor method"
   ]
  },
  {
   "cell_type": "code",
   "execution_count": 7,
   "id": "5faf9b0c",
   "metadata": {},
   "outputs": [],
   "source": [
    "C1 = Circle(10,'red')"
   ]
  },
  {
   "cell_type": "code",
   "execution_count": 9,
   "id": "ded91759",
   "metadata": {},
   "outputs": [
    {
     "data": {
      "text/plain": [
       "10"
      ]
     },
     "execution_count": 9,
     "metadata": {},
     "output_type": "execute_result"
    }
   ],
   "source": [
    "C1.radius\n"
   ]
  },
  {
   "cell_type": "code",
   "execution_count": 10,
   "id": "9214eaef",
   "metadata": {},
   "outputs": [
    {
     "data": {
      "text/plain": [
       "'red'"
      ]
     },
     "execution_count": 10,
     "metadata": {},
     "output_type": "execute_result"
    }
   ],
   "source": [
    "C1.color"
   ]
  },
  {
   "cell_type": "code",
   "execution_count": 11,
   "id": "cc19b8ca",
   "metadata": {},
   "outputs": [],
   "source": [
    "C1.color = 'blue'"
   ]
  },
  {
   "cell_type": "code",
   "execution_count": 12,
   "id": "b08e7463",
   "metadata": {},
   "outputs": [
    {
     "data": {
      "text/plain": [
       "'blue'"
      ]
     },
     "execution_count": 12,
     "metadata": {},
     "output_type": "execute_result"
    }
   ],
   "source": [
    "C1.color"
   ]
  },
  {
   "cell_type": "code",
   "execution_count": 13,
   "id": "ced4640b",
   "metadata": {},
   "outputs": [],
   "source": [
    "class Circle(object):\n",
    "    def __init__(self, radius, color):\n",
    "        self.radius = radius\n",
    "        self.color = color\n",
    "    def add_radius(self,r):\n",
    "        self.radius = self.radius + r"
   ]
  },
  {
   "cell_type": "code",
   "execution_count": 14,
   "id": "52e44966",
   "metadata": {},
   "outputs": [],
   "source": [
    "C1 = Circle(2,'red')"
   ]
  },
  {
   "cell_type": "code",
   "execution_count": 16,
   "id": "262c323a",
   "metadata": {},
   "outputs": [],
   "source": [
    "C1.add_radius(8)"
   ]
  },
  {
   "cell_type": "code",
   "execution_count": 17,
   "id": "20374cfb",
   "metadata": {},
   "outputs": [
    {
     "data": {
      "text/plain": [
       "10"
      ]
     },
     "execution_count": 17,
     "metadata": {},
     "output_type": "execute_result"
    }
   ],
   "source": [
    "C1.radius"
   ]
  },
  {
   "cell_type": "markdown",
   "id": "4e3d2ffa",
   "metadata": {},
   "source": [
    "## Dir Function\n",
    "- List all attributes and methods of object (include built-in and custom)\n",
    "- View the available names in a module, class, or object"
   ]
  },
  {
   "cell_type": "code",
   "execution_count": 18,
   "id": "6b4587c2",
   "metadata": {},
   "outputs": [
    {
     "name": "stdout",
     "output_type": "stream",
     "text": [
      "['__class__', '__delattr__', '__dict__', '__dir__', '__doc__', '__eq__', '__format__', '__ge__', '__getattribute__', '__gt__', '__hash__', '__init__', '__init_subclass__', '__le__', '__lt__', '__module__', '__ne__', '__new__', '__reduce__', '__reduce_ex__', '__repr__', '__setattr__', '__sizeof__', '__str__', '__subclasshook__', '__weakref__', 'add_radius', 'color', 'radius']\n"
     ]
    }
   ],
   "source": [
    "print(dir(C1))"
   ]
  },
  {
   "cell_type": "code",
   "execution_count": 19,
   "id": "77862148",
   "metadata": {},
   "outputs": [
    {
     "name": "stdout",
     "output_type": "stream",
     "text": [
      "['__abs__', '__add__', '__and__', '__bool__', '__ceil__', '__class__', '__delattr__', '__dir__', '__divmod__', '__doc__', '__eq__', '__float__', '__floor__', '__floordiv__', '__format__', '__ge__', '__getattribute__', '__getnewargs__', '__gt__', '__hash__', '__index__', '__init__', '__init_subclass__', '__int__', '__invert__', '__le__', '__lshift__', '__lt__', '__mod__', '__mul__', '__ne__', '__neg__', '__new__', '__or__', '__pos__', '__pow__', '__radd__', '__rand__', '__rdivmod__', '__reduce__', '__reduce_ex__', '__repr__', '__rfloordiv__', '__rlshift__', '__rmod__', '__rmul__', '__ror__', '__round__', '__rpow__', '__rrshift__', '__rshift__', '__rsub__', '__rtruediv__', '__rxor__', '__setattr__', '__sizeof__', '__str__', '__sub__', '__subclasshook__', '__truediv__', '__trunc__', '__xor__', 'as_integer_ratio', 'bit_length', 'conjugate', 'denominator', 'from_bytes', 'imag', 'numerator', 'real', 'to_bytes']\n"
     ]
    }
   ],
   "source": [
    "print(dir(1))"
   ]
  },
  {
   "cell_type": "code",
   "execution_count": 20,
   "id": "1e470973",
   "metadata": {},
   "outputs": [],
   "source": [
    "class Vehicle:\n",
    "    color = \"white\"\n",
    "\n",
    "\n",
    "    def __init__(self, max_speed, mileage):\n",
    "        self.max_speed = max_speed\n",
    "        self.mileage = mileage\n",
    "        self.seating_capacity = None\n",
    "\n",
    "\n",
    "    def assign_seating_capacity(self, seating_capacity):\n",
    "        self.seating_capacity = seating_capacity\n",
    "\n",
    "\n",
    "V1 = Vehicle(150, 25)"
   ]
  },
  {
   "cell_type": "code",
   "execution_count": 21,
   "id": "e65473e6",
   "metadata": {},
   "outputs": [],
   "source": [
    "ve = Vehicle(10,25)"
   ]
  },
  {
   "cell_type": "code",
   "execution_count": 22,
   "id": "8afd32d0",
   "metadata": {},
   "outputs": [
    {
     "data": {
      "text/plain": [
       "'white'"
      ]
     },
     "execution_count": 22,
     "metadata": {},
     "output_type": "execute_result"
    }
   ],
   "source": [
    "ve.color"
   ]
  },
  {
   "cell_type": "code",
   "execution_count": 23,
   "id": "3f297b69",
   "metadata": {},
   "outputs": [
    {
     "name": "stdout",
     "output_type": "stream",
     "text": [
      "80\n"
     ]
    }
   ],
   "source": [
    "class Graph():\n",
    "    def __init__(self, id):\n",
    "        self.id = id\n",
    "        self.id = 80\n",
    "\n",
    "\n",
    "val = Graph(200)\n",
    "print(val.id)"
   ]
  },
  {
   "cell_type": "code",
   "execution_count": 24,
   "id": "f1f6ddfd",
   "metadata": {},
   "outputs": [
    {
     "name": "stdout",
     "output_type": "stream",
     "text": [
      "2\n"
     ]
    }
   ],
   "source": [
    "a = 1 \n",
    "\n",
    "\n",
    "def do(x): \n",
    "    return x + a \n",
    "\n",
    "\n",
    "print(do(1))\n"
   ]
  },
  {
   "cell_type": "code",
   "execution_count": 25,
   "id": "8f696a0c",
   "metadata": {},
   "outputs": [
    {
     "name": "stdout",
     "output_type": "stream",
     "text": [
      "Error: Denominator cannot be 0.\n"
     ]
    }
   ],
   "source": [
    "try:\n",
    "    numerator = 10\n",
    "    denominator = 0\n",
    "    result = numerator / denominator\n",
    "    print(result)\n",
    "except ZeroDivisionError:\n",
    "    print(\"Error: Denominator cannot be 0.\")"
   ]
  },
  {
   "cell_type": "code",
   "execution_count": null,
   "id": "babd3447",
   "metadata": {},
   "outputs": [],
   "source": []
  }
 ],
 "metadata": {
  "kernelspec": {
   "display_name": "Python 3 (ipykernel)",
   "language": "python",
   "name": "python3"
  },
  "language_info": {
   "codemirror_mode": {
    "name": "ipython",
    "version": 3
   },
   "file_extension": ".py",
   "mimetype": "text/x-python",
   "name": "python",
   "nbconvert_exporter": "python",
   "pygments_lexer": "ipython3",
   "version": "3.9.13"
  }
 },
 "nbformat": 4,
 "nbformat_minor": 5
}
