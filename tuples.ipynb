{
 "cells": [
  {
   "cell_type": "markdown",
   "id": "824bb513",
   "metadata": {},
   "source": [
    "# Tuples\n",
    "- Tuples are an ordered sequence\n",
    "- Tuples are written as comma-separated elements within parentheless ()"
   ]
  },
  {
   "cell_type": "code",
   "execution_count": 1,
   "id": "34a6a159",
   "metadata": {},
   "outputs": [],
   "source": [
    "Ratings = (10,9,6,5,10,8,9,6,2)"
   ]
  },
  {
   "cell_type": "code",
   "execution_count": 2,
   "id": "0e937def",
   "metadata": {},
   "outputs": [
    {
     "data": {
      "text/plain": [
       "tuple"
      ]
     },
     "execution_count": 2,
     "metadata": {},
     "output_type": "execute_result"
    }
   ],
   "source": [
    "type(Ratings)"
   ]
  },
  {
   "cell_type": "code",
   "execution_count": 3,
   "id": "9281b80d",
   "metadata": {},
   "outputs": [],
   "source": [
    "tuple1 = (\"disco\", 10, 1.2)"
   ]
  },
  {
   "cell_type": "code",
   "execution_count": 4,
   "id": "cff4cc48",
   "metadata": {},
   "outputs": [
    {
     "data": {
      "text/plain": [
       "tuple"
      ]
     },
     "execution_count": 4,
     "metadata": {},
     "output_type": "execute_result"
    }
   ],
   "source": [
    "type(tuple1)"
   ]
  },
  {
   "cell_type": "code",
   "execution_count": 5,
   "id": "2e3fc9b2",
   "metadata": {},
   "outputs": [],
   "source": [
    "tuple2 = tuple1 + (\"hard rock\", 10)"
   ]
  },
  {
   "cell_type": "code",
   "execution_count": 6,
   "id": "d1f1f371",
   "metadata": {},
   "outputs": [
    {
     "name": "stdout",
     "output_type": "stream",
     "text": [
      "('disco', 10, 1.2, 'hard rock', 10)\n"
     ]
    }
   ],
   "source": [
    "print(tuple2)"
   ]
  },
  {
   "cell_type": "markdown",
   "id": "91228d58",
   "metadata": {},
   "source": [
    "## Tuples: Slicing"
   ]
  },
  {
   "cell_type": "code",
   "execution_count": 7,
   "id": "a409b473",
   "metadata": {},
   "outputs": [
    {
     "data": {
      "text/plain": [
       "('hard rock', 10)"
      ]
     },
     "execution_count": 7,
     "metadata": {},
     "output_type": "execute_result"
    }
   ],
   "source": [
    "tuple2[3:5]"
   ]
  },
  {
   "cell_type": "markdown",
   "id": "5d04eb46",
   "metadata": {},
   "source": [
    "## Tuples: Immutable\n",
    "- Ratings = (10,9,6,5,10,8,9,6,2)\n",
    "- Ratings1 = Ratings\n",
    "- Each variable does not contain a tuple, but references the same immutable tuple object\n",
    "- Because tuples are immmutable -> we can't change Ratings[2] = 4 "
   ]
  },
  {
   "cell_type": "code",
   "execution_count": 8,
   "id": "0dd3f059",
   "metadata": {},
   "outputs": [],
   "source": [
    "Ratings1 = Ratings"
   ]
  },
  {
   "cell_type": "code",
   "execution_count": 9,
   "id": "a3c621f6",
   "metadata": {},
   "outputs": [
    {
     "name": "stdout",
     "output_type": "stream",
     "text": [
      "(10, 9, 6, 5, 10, 8, 9, 6, 2)\n"
     ]
    }
   ],
   "source": [
    "print(Ratings1)"
   ]
  },
  {
   "cell_type": "code",
   "execution_count": 10,
   "id": "563ac80c",
   "metadata": {},
   "outputs": [],
   "source": [
    "RatingsSorted = sorted(Ratings)"
   ]
  },
  {
   "cell_type": "code",
   "execution_count": 12,
   "id": "d2aa3406",
   "metadata": {},
   "outputs": [
    {
     "name": "stdout",
     "output_type": "stream",
     "text": [
      "[2, 5, 6, 6, 8, 9, 9, 10, 10]\n"
     ]
    }
   ],
   "source": [
    "print(RatingsSorted)"
   ]
  },
  {
   "cell_type": "markdown",
   "id": "a3e2b8ed",
   "metadata": {},
   "source": [
    "## Tuples: Nesting"
   ]
  },
  {
   "cell_type": "code",
   "execution_count": 13,
   "id": "48574afc",
   "metadata": {},
   "outputs": [],
   "source": [
    "NT = (1,2,(\"pop\", \"rock\"), (3,4), (\"disco\",(1,2)))"
   ]
  },
  {
   "cell_type": "code",
   "execution_count": 14,
   "id": "ed5fe8dc",
   "metadata": {},
   "outputs": [
    {
     "data": {
      "text/plain": [
       "('pop', 'rock')"
      ]
     },
     "execution_count": 14,
     "metadata": {},
     "output_type": "execute_result"
    }
   ],
   "source": [
    "NT[2]"
   ]
  },
  {
   "cell_type": "code",
   "execution_count": 15,
   "id": "c7938175",
   "metadata": {},
   "outputs": [
    {
     "data": {
      "text/plain": [
       "'rock'"
      ]
     },
     "execution_count": 15,
     "metadata": {},
     "output_type": "execute_result"
    }
   ],
   "source": [
    "NT[2][1]"
   ]
  },
  {
   "cell_type": "code",
   "execution_count": null,
   "id": "f120d54c",
   "metadata": {},
   "outputs": [],
   "source": []
  }
 ],
 "metadata": {
  "kernelspec": {
   "display_name": "Python 3 (ipykernel)",
   "language": "python",
   "name": "python3"
  },
  "language_info": {
   "codemirror_mode": {
    "name": "ipython",
    "version": 3
   },
   "file_extension": ".py",
   "mimetype": "text/x-python",
   "name": "python",
   "nbconvert_exporter": "python",
   "pygments_lexer": "ipython3",
   "version": "3.9.13"
  }
 },
 "nbformat": 4,
 "nbformat_minor": 5
}
